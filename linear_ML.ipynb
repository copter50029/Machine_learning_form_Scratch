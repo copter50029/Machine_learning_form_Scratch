{
 "cells": [
  {
   "cell_type": "markdown",
   "metadata": {},
   "source": [
    "## data set (house_price)"
   ]
  },
  {
   "cell_type": "code",
   "execution_count": 36,
   "metadata": {},
   "outputs": [
    {
     "name": "stdout",
     "output_type": "stream",
     "text": [
      "(20640, 8) (20640,)\n"
     ]
    }
   ],
   "source": [
    "from sklearn.datasets import fetch_california_housing\n",
    "housing = fetch_california_housing()\n",
    "print(housing.data.shape, housing.target.shape)"
   ]
  },
  {
   "cell_type": "code",
   "execution_count": 37,
   "metadata": {},
   "outputs": [
    {
     "name": "stdout",
     "output_type": "stream",
     "text": [
      "['MedInc', 'HouseAge', 'AveRooms', 'AveBedrms', 'Population', 'AveOccup']\n"
     ]
    }
   ],
   "source": [
    "print(housing.feature_names[0:6])# we don't need latitude and longitude\n"
   ]
  },
  {
   "cell_type": "code",
   "execution_count": 38,
   "metadata": {},
   "outputs": [
    {
     "name": "stdout",
     "output_type": "stream",
     "text": [
      "['MedHouseVal']\n"
     ]
    }
   ],
   "source": [
    "print(housing.target_names)"
   ]
  },
  {
   "cell_type": "markdown",
   "metadata": {},
   "source": [
    "  - `x_train` is the x label (['MedInc', 'HouseAge', 'AveRooms', 'AveBedrms', 'Population', 'AveOccup']\n",
    ")"
   ]
  },
  {
   "cell_type": "code",
   "execution_count": 39,
   "metadata": {},
   "outputs": [
    {
     "name": "stdout",
     "output_type": "stream",
     "text": [
      "Type of x_train: <class 'numpy.ndarray'>\n",
      "Shape of x_train: (20640, 6)\n",
      "[[8.32520000e+00 4.10000000e+01 6.98412698e+00 1.02380952e+00\n",
      "  3.22000000e+02 2.55555556e+00]\n",
      " [8.30140000e+00 2.10000000e+01 6.23813708e+00 9.71880492e-01\n",
      "  2.40100000e+03 2.10984183e+00]\n",
      " [7.25740000e+00 5.20000000e+01 8.28813559e+00 1.07344633e+00\n",
      "  4.96000000e+02 2.80225989e+00]\n",
      " [5.64310000e+00 5.20000000e+01 5.81735160e+00 1.07305936e+00\n",
      "  5.58000000e+02 2.54794521e+00]\n",
      " [3.84620000e+00 5.20000000e+01 6.28185328e+00 1.08108108e+00\n",
      "  5.65000000e+02 2.18146718e+00]\n",
      " [4.03680000e+00 5.20000000e+01 4.76165803e+00 1.10362694e+00\n",
      "  4.13000000e+02 2.13989637e+00]\n",
      " [3.65910000e+00 5.20000000e+01 4.93190661e+00 9.51361868e-01\n",
      "  1.09400000e+03 2.12840467e+00]\n",
      " [3.12000000e+00 5.20000000e+01 4.79752705e+00 1.06182380e+00\n",
      "  1.15700000e+03 1.78825348e+00]\n",
      " [2.08040000e+00 4.20000000e+01 4.29411765e+00 1.11764706e+00\n",
      "  1.20600000e+03 2.02689076e+00]]\n"
     ]
    }
   ],
   "source": [
    "x_train = housing.data[0::, 0:6] # the first [] is specifly W and second one are column\n",
    "print(\"Type of x_train:\", type(x_train))\n",
    "print(\"Shape of x_train:\", x_train.shape)\n",
    "print(x_train[0:9])\n"
   ]
  },
  {
   "cell_type": "markdown",
   "metadata": {},
   "source": [
    "  - `Y_train` is the house price (in 100k unit)"
   ]
  },
  {
   "cell_type": "code",
   "execution_count": 40,
   "metadata": {},
   "outputs": [
    {
     "name": "stdout",
     "output_type": "stream",
     "text": [
      "Type of x_train: <class 'numpy.ndarray'>\n",
      "Shape of x_train: (20640,)\n",
      "[4.526]\n"
     ]
    }
   ],
   "source": [
    "y_train = housing.target\n",
    "print(\"Type of x_train:\", type(y_train))\n",
    "print(\"Shape of x_train:\", y_train.shape)\n",
    "print(y_train[0:1])"
   ]
  },
  {
   "cell_type": "markdown",
   "metadata": {},
   "source": [
    "#### Check the dimensions of your variables\n",
    "\n",
    "Another useful way to get familiar with your data is to view its dimensions.\n",
    "\n",
    "print the shape of `x_train` and `y_train` to see how many training examples i have in my dataset."
   ]
  },
  {
   "cell_type": "code",
   "execution_count": 41,
   "metadata": {},
   "outputs": [
    {
     "name": "stdout",
     "output_type": "stream",
     "text": [
      "The shape of x_train is: (20640, 6)\n",
      "The shape of y_train is:  (20640,)\n",
      "Number of training examples (m): 20640\n"
     ]
    }
   ],
   "source": [
    "print ('The shape of x_train is:', x_train.shape)\n",
    "print ('The shape of y_train is: ', y_train.shape)\n",
    "print ('Number of training examples (m):', len(x_train))"
   ]
  },
  {
   "cell_type": "markdown",
   "metadata": {},
   "source": [
    "#### Visualize your data\n",
    "\n",
    "It is often useful to understand the data by visualizing it. \n",
    "- For this dataset, you can use a scatter plot to visualize the data, since it has only two properties to plot (profit and population). \n",
    "- Many other problems that you will encounter in real life have more than two properties (for example, population, average household income, monthly profits, monthly sales).When you have more than two properties, you can still use a scatter plot to see the relationship between each pair of properties."
   ]
  },
  {
   "cell_type": "code",
   "execution_count": 43,
   "metadata": {},
   "outputs": [],
   "source": [
    "# do it later"
   ]
  }
 ],
 "metadata": {
  "kernelspec": {
   "display_name": "myevm",
   "language": "python",
   "name": "python3"
  },
  "language_info": {
   "codemirror_mode": {
    "name": "ipython",
    "version": 3
   },
   "file_extension": ".py",
   "mimetype": "text/x-python",
   "name": "python",
   "nbconvert_exporter": "python",
   "pygments_lexer": "ipython3",
   "version": "3.10.6"
  }
 },
 "nbformat": 4,
 "nbformat_minor": 2
}
