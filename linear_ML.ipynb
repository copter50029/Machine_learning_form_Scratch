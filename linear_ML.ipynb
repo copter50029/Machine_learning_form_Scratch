{
 "cells": [
  {
   "cell_type": "markdown",
   "metadata": {},
   "source": [
    "## data set (house_price)"
   ]
  },
  {
   "cell_type": "code",
   "execution_count": 306,
   "metadata": {},
   "outputs": [
    {
     "name": "stdout",
     "output_type": "stream",
     "text": [
      "(20640, 8) (20640,)\n"
     ]
    }
   ],
   "source": [
    "from sklearn.datasets import fetch_california_housing\n",
    "housing = fetch_california_housing()\n",
    "print(housing.data.shape, housing.target.shape)"
   ]
  },
  {
   "cell_type": "code",
   "execution_count": 307,
   "metadata": {},
   "outputs": [
    {
     "name": "stdout",
     "output_type": "stream",
     "text": [
      "['MedInc', 'HouseAge', 'AveRooms', 'AveBedrms', 'Population', 'AveOccup']\n"
     ]
    }
   ],
   "source": [
    "print(housing.feature_names[0:6])# we don't need latitude and longitude\n"
   ]
  },
  {
   "cell_type": "code",
   "execution_count": 308,
   "metadata": {},
   "outputs": [
    {
     "name": "stdout",
     "output_type": "stream",
     "text": [
      "['MedHouseVal']\n"
     ]
    }
   ],
   "source": [
    "print(housing.target_names)"
   ]
  },
  {
   "cell_type": "markdown",
   "metadata": {},
   "source": [
    "  - `x_train` is the x label (['MedInc', 'HouseAge', 'AveRooms', 'AveBedrms', 'Population', 'AveOccup']\n",
    ")"
   ]
  },
  {
   "cell_type": "code",
   "execution_count": 309,
   "metadata": {},
   "outputs": [
    {
     "name": "stdout",
     "output_type": "stream",
     "text": [
      "Type of x_train: <class 'numpy.ndarray'>\n",
      "Shape of x_train: (20640, 6)\n",
      "[[8.32520000e+00 4.10000000e+01 6.98412698e+00 1.02380952e+00\n",
      "  3.22000000e+02 2.55555556e+00]\n",
      " [8.30140000e+00 2.10000000e+01 6.23813708e+00 9.71880492e-01\n",
      "  2.40100000e+03 2.10984183e+00]\n",
      " [7.25740000e+00 5.20000000e+01 8.28813559e+00 1.07344633e+00\n",
      "  4.96000000e+02 2.80225989e+00]\n",
      " [5.64310000e+00 5.20000000e+01 5.81735160e+00 1.07305936e+00\n",
      "  5.58000000e+02 2.54794521e+00]\n",
      " [3.84620000e+00 5.20000000e+01 6.28185328e+00 1.08108108e+00\n",
      "  5.65000000e+02 2.18146718e+00]\n",
      " [4.03680000e+00 5.20000000e+01 4.76165803e+00 1.10362694e+00\n",
      "  4.13000000e+02 2.13989637e+00]\n",
      " [3.65910000e+00 5.20000000e+01 4.93190661e+00 9.51361868e-01\n",
      "  1.09400000e+03 2.12840467e+00]\n",
      " [3.12000000e+00 5.20000000e+01 4.79752705e+00 1.06182380e+00\n",
      "  1.15700000e+03 1.78825348e+00]\n",
      " [2.08040000e+00 4.20000000e+01 4.29411765e+00 1.11764706e+00\n",
      "  1.20600000e+03 2.02689076e+00]]\n"
     ]
    }
   ],
   "source": [
    "x_label = housing.data[0::, 0:6] # the first [] is specifly W and second one are column\n",
    "print(\"Type of x_train:\", type(x_label))\n",
    "print(\"Shape of x_train:\", x_label.shape)\n",
    "print(x_label[0:9])\n"
   ]
  },
  {
   "cell_type": "markdown",
   "metadata": {},
   "source": [
    "  - `Y_train` is the house price (in 100k unit)"
   ]
  },
  {
   "cell_type": "code",
   "execution_count": 310,
   "metadata": {},
   "outputs": [
    {
     "name": "stdout",
     "output_type": "stream",
     "text": [
      "Type of x_train: <class 'numpy.ndarray'>\n",
      "Shape of x_train: (20640,)\n",
      "[4.526 3.585 3.521 3.413]\n"
     ]
    }
   ],
   "source": [
    "y_label = housing.target[0::]\n",
    "print(\"Type of x_train:\", type(y_label))\n",
    "print(\"Shape of x_train:\", y_label.shape)\n",
    "print(y_label[0:4])"
   ]
  },
  {
   "cell_type": "markdown",
   "metadata": {},
   "source": [
    "#### Check the dimensions of your variables\n",
    "\n",
    "Another useful way to get familiar with your data is to view its dimensions.\n",
    "\n",
    "print the shape of `x_train` and `y_train` to see how many training examples i have in my dataset."
   ]
  },
  {
   "cell_type": "code",
   "execution_count": 311,
   "metadata": {},
   "outputs": [
    {
     "name": "stdout",
     "output_type": "stream",
     "text": [
      "The shape of x_label is: (20640, 6)\n",
      "The shape of y_label is:  (20640,)\n",
      "Number of label examples (m): 20640\n"
     ]
    }
   ],
   "source": [
    "print ('The shape of x_label is:', x_label.shape)\n",
    "print ('The shape of y_label is: ', y_label.shape)\n",
    "print ('Number of label examples (m):', len(x_label))"
   ]
  },
  {
   "cell_type": "markdown",
   "metadata": {},
   "source": [
    "## create vector"
   ]
  },
  {
   "cell_type": "code",
   "execution_count": 312,
   "metadata": {},
   "outputs": [
    {
     "name": "stdout",
     "output_type": "stream",
     "text": [
      "X Shape: (20640, 6), X Type:<class 'numpy.ndarray'>)\n",
      "[[8.3252001e+00 4.1000000e+01 6.9841270e+00 1.0238096e+00 3.2200000e+02\n",
      "  2.5555556e+00]\n",
      " [8.3014002e+00 2.1000000e+01 6.2381372e+00 9.7188050e-01 2.4010000e+03\n",
      "  2.1098418e+00]\n",
      " [7.2574000e+00 5.2000000e+01 8.2881355e+00 1.0734463e+00 4.9600000e+02\n",
      "  2.8022599e+00]\n",
      " ...\n",
      " [1.7000000e+00 1.7000000e+01 5.2055426e+00 1.1200924e+00 1.0070000e+03\n",
      "  2.3256352e+00]\n",
      " [1.8672000e+00 1.8000000e+01 5.3295131e+00 1.1719198e+00 7.4100000e+02\n",
      "  2.1232092e+00]\n",
      " [2.3886001e+00 1.6000000e+01 5.2547169e+00 1.1622641e+00 1.3870000e+03\n",
      "  2.6169810e+00]]\n",
      "y Shape: (20640,), y Type:<class 'numpy.ndarray'>)\n",
      "[4.526 3.585 3.521 ... 0.923 0.847 0.894]\n"
     ]
    }
   ],
   "source": [
    "import numpy as np\n",
    "X_train = np.array(x_label, dtype=np.float32)\n",
    "X_train = X_train.ravel().reshape(-1, 6)\n",
    "y_train = np.array(y_label, dtype=np.float32)\n",
    "y_train = y_train.ravel()\n",
    "\n",
    "print(f\"X Shape: {X_train.shape}, X Type:{type(X_train)})\")\n",
    "print(X_train)\n",
    "print(f\"y Shape: {y_train.shape}, y Type:{type(y_train)})\")\n",
    "print(y_train)"
   ]
  },
  {
   "cell_type": "code",
   "execution_count": 313,
   "metadata": {},
   "outputs": [],
   "source": [
    "def compute_cost(X,y,w,b):\n",
    "    m = X.shape[0]\n",
    "\n",
    "    cost = 0 \n",
    "\n",
    "    for i in range(m):\n",
    "        f_w = np.dot(X[i], w) + b\n",
    "        cost = cost + (f_w - y[i])**2\n",
    "    cost = (1 / (2*m)) * cost # totalcost\n",
    "    return cost"
   ]
  },
  {
   "cell_type": "markdown",
   "metadata": {},
   "source": [
    "<a name=\"toc_40291_2.3\"></a>\n",
    "### compute_gradient\n",
    "<a name='ex-01'></a>\n",
    "`compute_gradient`  implements (4) and (5) above and returns $\\frac{\\partial J(w,b)}{\\partial w}$,$\\frac{\\partial J(w,b)}{\\partial b}$. The embedded comments describe the operations."
   ]
  },
  {
   "cell_type": "code",
   "execution_count": 314,
   "metadata": {},
   "outputs": [],
   "source": [
    "def compute_gradient(X, y, w, b): \n",
    "    m,n = X.shape           #(number of examples, number of features)\n",
    "    dj_dw = np.zeros((n,))\n",
    "    dj_db = 0.\n",
    "\n",
    "    for i in range(m):                             \n",
    "        err = (np.dot(X[i], w) + b) - y[i]   \n",
    "        for j in range(n):                         \n",
    "            dj_dw[j] = dj_dw[j] + err * X[i, j]    \n",
    "        dj_db = dj_db + err                        \n",
    "    dj_dw = dj_dw / m                                \n",
    "    dj_db = dj_db / m                                \n",
    "        \n",
    "    return dj_db, dj_dw"
   ]
  },
  {
   "cell_type": "code",
   "execution_count": 315,
   "metadata": {},
   "outputs": [],
   "source": [
    "import math, copy\n",
    "def gradient_descent(X, y, w_in, b_in, cost_function, gradient_function, alpha, num_iters): \n",
    "    # An array to store cost J and w's at each iteration primarily for graphing later\n",
    "    J_history = []\n",
    "    w = copy.deepcopy(w_in)  #avoid modifying global w within function\n",
    "    b = b_in\n",
    "    \n",
    "    for i in range(num_iters):\n",
    "        # Calculate the gradient and update the parameters\n",
    "        dj_db,dj_dw = gradient_function(X, y, w, b) \n",
    "        # Update Parameters using w, b, alpha and gradient\n",
    "        w = w - alpha * dj_dw              \n",
    "        b = b - alpha * dj_db              \n",
    "        # Save cost J at each iteration\n",
    "        if i<100000:      \n",
    "            J_history.append( cost_function(X, y, w, b))\n",
    "\n",
    "        if i% math.ceil(num_iters / 10) == 0:\n",
    "            print(f\"Iteration {i:4d}: Cost {J_history[-1]:8.2f}   \")\n",
    "        \n",
    "    return w, b, J_history "
   ]
  },
  {
   "cell_type": "code",
   "execution_count": 316,
   "metadata": {},
   "outputs": [
    {
     "name": "stdout",
     "output_type": "stream",
     "text": [
      "Iteration    0: Cost     2.10   \n"
     ]
    },
    {
     "name": "stdout",
     "output_type": "stream",
     "text": [
      "Iteration  300: Cost     1.50   \n",
      "Iteration  600: Cost     1.47   \n",
      "Iteration  900: Cost     1.45   \n",
      "Iteration 1200: Cost     1.42   \n",
      "Iteration 1500: Cost     1.40   \n",
      "Iteration 1800: Cost     1.38   \n",
      "Iteration 2100: Cost     1.36   \n",
      "Iteration 2400: Cost     1.34   \n",
      "Iteration 2700: Cost     1.32   \n",
      "b,w found by gradient descent: 0.00,[0.00133512 0.00785433 0.00142296 0.00025168 0.00078698 0.00040121] \n"
     ]
    }
   ],
   "source": [
    "# initialize fitting parameters. Recall that the shape of w is (n,)\n",
    "# initialize parameters\n",
    "initial_w = np.zeros((6,))\n",
    "initial_b = 0.\n",
    "# set hyperparameters\n",
    "iterations = 3000\n",
    "alpha = 1.0e-7\n",
    "# run gradient descent \n",
    "w_final, b_final, J_hist = gradient_descent(X_train, y_train, initial_w, initial_b,\n",
    "                                            compute_cost, compute_gradient, \n",
    "                                            alpha, iterations)\n",
    "print(f\"b,w found by gradient descent: {b_final:0.2f},{w_final} \")"
   ]
  },
  {
   "cell_type": "code",
   "execution_count": 319,
   "metadata": {},
   "outputs": [
    {
     "data": {
      "image/png": "[encoded data removed]",
      "text/plain": [
       "<Figure size 1200x400 with 2 Axes>"
      ]
     },
     "metadata": {},
     "output_type": "display_data"
    }
   ],
   "source": [
    "import matplotlib.pyplot as plt\n",
    "# plot cost versus iteration  \n",
    "fig, (ax1, ax2) = plt.subplots(1, 2, constrained_layout=True, figsize=(12, 4))\n",
    "ax1.plot(J_hist)\n",
    "ax2.plot(100 + np.arange(len(J_hist[100:])), J_hist[100:])\n",
    "ax1.set_title(\"Cost vs. iteration\");  ax2.set_title(\"Cost vs. iteration (tail)\")\n",
    "ax1.set_ylabel('Cost')             ;  ax2.set_ylabel('Cost') \n",
    "ax1.set_xlabel('iteration step')   ;  ax2.set_xlabel('iteration step') \n",
    "plt.show()"
   ]
  },
  {
   "cell_type": "code",
   "execution_count": 318,
   "metadata": {},
   "outputs": [
    {
     "name": "stdout",
     "output_type": "stream",
     "text": [
      "prediction: 0.60, target value: 4.526000022888184\n",
      "prediction: 2.08, target value: 3.5850000381469727\n",
      "prediction: 0.82, target value: 3.5209999084472656\n",
      "prediction: 0.86, target value: 3.4130001068115234\n",
      "prediction: 0.87, target value: 3.421999931335449\n",
      "prediction: 0.75, target value: 2.697000026702881\n",
      "prediction: 1.28, target value: 2.992000102996826\n",
      "prediction: 1.33, target value: 2.4140000343322754\n",
      "prediction: 1.29, target value: 2.2669999599456787\n",
      "prediction: 1.64, target value: 2.6110000610351562\n"
     ]
    }
   ],
   "source": [
    "m,_ = X_train.shape\n",
    "for i in range(10):\n",
    "    print(f\"prediction: {np.dot(X_train[i], w_final) + b_final:0.2f}, target value: {y_train[i]}\")"
   ]
  }
 ],
 "metadata": {
  "kernelspec": {
   "display_name": "myevm",
   "language": "python",
   "name": "python3"
  },
  "language_info": {
   "codemirror_mode": {
    "name": "ipython",
    "version": 3
   },
   "file_extension": ".py",
   "mimetype": "text/x-python",
   "name": "python",
   "nbconvert_exporter": "python",
   "pygments_lexer": "ipython3",
   "version": "3.10.6"
  }
 },
 "nbformat": 4,
 "nbformat_minor": 2
}
